{
  "nbformat": 4,
  "nbformat_minor": 0,
  "metadata": {
    "colab": {
      "provenance": [],
      "include_colab_link": true
    },
    "kernelspec": {
      "name": "python3",
      "display_name": "Python 3"
    },
    "language_info": {
      "name": "python"
    }
  },
  "cells": [
    {
      "cell_type": "markdown",
      "metadata": {
        "id": "view-in-github",
        "colab_type": "text"
      },
      "source": [
        "<a href=\"https://colab.research.google.com/github/Jandsy/ml_finance_imperial/blob/main/Programming_Sessions/Programming_session_5/Solution_Programming_session_5.ipynb\" target=\"_parent\"><img src=\"https://colab.research.google.com/assets/colab-badge.svg\" alt=\"Open In Colab\"/></a>"
      ]
    },
    {
      "cell_type": "markdown",
      "metadata": {
        "id": "48GJETGg1Aow"
      },
      "source": [
        "# **<center>Machine Learning and Finance </center>**\n",
        "\n",
        "\n",
        "## <center> Programming Session 5 - Introduction to Sequence Models  - </center>\n",
        "\n",
        "\n",
        "\n",
        "**Introduction:**\n",
        "\n",
        "This session aims to explore two fundamental aspects of sequence modeling: a Numpy implementation of a standard Recurrent Neural Network (RNN) and the classification of MNIST digits using Long Short-Term Memory (LSTM) networks.\n",
        "\n",
        "**Challenge:**\n",
        "\n",
        "The primary challenge involves grasping the intricacies of sequence modeling techniques, understanding their implementation from scratch, and then applying them to a real-world dataset like MNIST for accurate digit classification. For the Numpy-based RNN, the challenge lies in comprehensively implementing the core functionality of RNNs using only Numpy operations. Meanwhile, for the LSTM-based MNIST classification, the challenge is to understand the complexities of LSTM cells and effectively utilize them to classify handwritten digits.\n",
        "\n",
        "**Dataset Overview:**\n",
        "\n",
        "The MNIST dataset, a classic benchmark dataset, consists of 28x28 grayscale images of handwritten digits ranging from 0 to 9. Each image is accompanied by a corresponding label indicating the digit it represents. This dataset serves as an ideal starting point for experimenting with various sequence modeling techniques.\n",
        "\n",
        "**Objectives:**\n",
        "\n",
        "1. **Numpy Implementation of Standard RNN:**\n",
        "   - Understand the architecture and functioning of standard RNNs.\n",
        "   - Implement a basic RNN using Numpy, focusing on forward propagation.\n",
        "\n",
        "2. **MNIST Classification Using LSTM:**\n",
        "   - Explore the concept of Long Short-Term Memory (LSTM) networks.\n",
        "   - Train and evaluate the LSTM model on the MNIST dataset for accurate digit classification.\n"
      ]
    },
    {
      "cell_type": "markdown",
      "metadata": {
        "id": "qngIFzSedTYR"
      },
      "source": [
        "# 1. Numpy implementation of a standard RNN"
      ]
    },
    {
      "cell_type": "markdown",
      "source": [
        "<center><img width=“700\" src = \"https://drive.google.com/uc?export=view&id=1vXVUvFIFDxYo_sdil2QPJWSCwXwZj27f\"></center>"
      ],
      "metadata": {
        "id": "2WHK0TFvgvHw"
      }
    },
    {
      "cell_type": "code",
      "metadata": {
        "id": "kCcWOvm03Zxu"
      },
      "source": [
        "# Import basic libraries\n",
        "import matplotlib.pyplot as plt # for plotting\n",
        "import numpy as np # for manipulating arrays\n",
        "import tensorflow as tf # for creating Neural Networks, we will use it to load data\n",
        "plt.style.use('dark_background') # to adapt the colors to a dark background\n",
        "from IPython.display import Image # for showing graphs from the lectures"
      ],
      "execution_count": null,
      "outputs": []
    },
    {
      "cell_type": "markdown",
      "metadata": {
        "id": "rMujAuUXxAUA"
      },
      "source": [
        "We consider the following hyperparameters:"
      ]
    },
    {
      "cell_type": "code",
      "metadata": {
        "id": "xRb1hXjofx7W"
      },
      "source": [
        "N = 1000\n",
        "T = 100\n",
        "D = 50\n",
        "d = 20"
      ],
      "execution_count": null,
      "outputs": []
    },
    {
      "cell_type": "markdown",
      "source": [
        "---\n",
        "<font color=green>Q1:</font>\n",
        "<br><font color='green'>\n",
        "Generate some random data of shape $(N, T, D)$ in 'data' variable.\n",
        "</font>\n",
        "\n",
        "---"
      ],
      "metadata": {
        "id": "RHFbv_RgfmB2"
      }
    },
    {
      "cell_type": "code",
      "source": [
        "data = np.random.random((N, T, D))"
      ],
      "metadata": {
        "id": "n_7IdGjKiAgl"
      },
      "execution_count": null,
      "outputs": []
    },
    {
      "cell_type": "code",
      "source": [
        "print(data.shape)"
      ],
      "metadata": {
        "colab": {
          "base_uri": "https://localhost:8080/"
        },
        "id": "HoLl4dFziAnP",
        "outputId": "28d5a95f-1648-4ea3-aa89-c25926daa37b"
      },
      "execution_count": null,
      "outputs": [
        {
          "output_type": "stream",
          "name": "stdout",
          "text": [
            "(1000, 100, 50)\n"
          ]
        }
      ]
    },
    {
      "cell_type": "code",
      "source": [
        "print(data[999].shape)"
      ],
      "metadata": {
        "id": "NiUnB0hdOQab",
        "outputId": "261a7f8b-48e3-4146-fbb3-7468e8d5d8cd",
        "colab": {
          "base_uri": "https://localhost:8080/"
        }
      },
      "execution_count": null,
      "outputs": [
        {
          "output_type": "stream",
          "name": "stdout",
          "text": [
            "(100, 50)\n"
          ]
        }
      ]
    },
    {
      "cell_type": "code",
      "metadata": {
        "id": "K3siLQOsxSqR",
        "colab": {
          "base_uri": "https://localhost:8080/",
          "height": 450
        },
        "outputId": "95ed6d71-2dc7-40bf-d04b-ab3799f7d3f3"
      },
      "source": [
        "plt.imshow(data[0])"
      ],
      "execution_count": null,
      "outputs": [
        {
          "output_type": "execute_result",
          "data": {
            "text/plain": [
              "<matplotlib.image.AxesImage at 0x7e144e7a2bc0>"
            ]
          },
          "metadata": {},
          "execution_count": 5
        },
        {
          "output_type": "display_data",
          "data": {
            "text/plain": [
              "<Figure size 640x480 with 1 Axes>"
            ],
            "image/png": "[encoded data removed]"
          },
          "metadata": {}
        }
      ]
    },
    {
      "cell_type": "markdown",
      "source": [
        "---\n",
        "<font color=green>Q2:</font>\n",
        "<br><font color='green'>\n",
        "Generate some random weights $W_{hh}, W_{xh}, b_h$\n",
        "</font>\n",
        "\n",
        "---"
      ],
      "metadata": {
        "id": "1A5iUerBfwgv"
      }
    },
    {
      "cell_type": "code",
      "metadata": {
        "id": "Zy1x3CqWyBn9"
      },
      "source": [
        "w_hh = np.random.random((d,d))\n",
        "w_xh = np.random.random((D,d))\n",
        "b_h = np.random.random((d,))"
      ],
      "execution_count": null,
      "outputs": []
    },
    {
      "cell_type": "markdown",
      "source": [
        "---\n",
        "<font color=green>Q3:</font>\n",
        "<br><font color='green'>\n",
        "Produce the output tensor with a shape of $(N, T, d)$ by generating the sequence $h_1, \\dots, h_T$ corresponding to each sequence $x_1, \\dots, x_T$:\n",
        "1.   Initialize the Output Tensor : Create a tensor `H` with shape $(N, T, d)$ filled with zeros.\n",
        "2.  Prepare for Iteration:\n",
        "   - Loop through each of the $N$ samples.\n",
        "\n",
        "3. Process Each Sample:\n",
        "   - For each sample $i$, extract the sequence $X$ consisting of $T$ vectors of size $D$.\n",
        "   - Initialize the hidden state $h_{t-1}$ with zeros of shape $(d,)$.\n",
        "   - Create an empty list to store the generated hidden states $h_1, \\dots, h_T$.\n",
        "\n",
        "4. Generate Sequence of Hidden States:\n",
        "   - For each element $x_t$ in the sequence $X$:\n",
        "     - Compute the hidden state $h_t$ using the formula $h_t = \\tanh(W_{xh}^T x_t + W_{hh}^T h_{t-1} + b_h)$.\n",
        "     - Append $h_t$ to the list of outputs.\n",
        "     - Update $h_{t-1}$ to the newly computed $h_t$.\n",
        "\n",
        "5. Store the Sequence in the Output Tensor:\n",
        "   - Assign the list of hidden states to the corresponding slice of the output tensor $H[i]$.\n",
        "\n",
        "\n",
        "---"
      ],
      "metadata": {
        "id": "ZvIG6LaufxHY"
      }
    },
    {
      "cell_type": "code",
      "metadata": {
        "id": "pO0LjXHdgnYZ"
      },
      "source": [
        "H = np.zeros((N, T, d))\n",
        "\n",
        "for i in range(N):\n",
        "    X = data[i]\n",
        "    ## initialize the first hidden state h_t_minus_one\n",
        "    h_t_minus_one = np.zeros((d,))\n",
        "\n",
        "    ### create an empty list of hidden state to keep\n",
        "    list_of_ht = []\n",
        "\n",
        "    for x_t in X:\n",
        "\n",
        "        ## update ht using recursive formula\n",
        "        h_t = np.tanh(w_xh.T.dot(x_t) + w_hh.T.dot(h_t_minus_one) + b_h)\n",
        "\n",
        "        ## append ht to the list of hidden states\n",
        "        list_of_ht.append(h_t)\n",
        "\n",
        "        ## update h_t_minus_one\n",
        "        h_t_minus_one = h_t\n",
        "\n",
        "    ## complete the output tensor with the list of hidden states\n",
        "    H[i] = list_of_ht\n"
      ],
      "execution_count": null,
      "outputs": []
    },
    {
      "cell_type": "code",
      "source": [
        "print(H[0])"
      ],
      "metadata": {
        "colab": {
          "base_uri": "https://localhost:8080/"
        },
        "id": "vClO2giKq3eF",
        "outputId": "f8ee1345-cc9a-4660-bb4d-081a6771399a"
      },
      "execution_count": null,
      "outputs": [
        {
          "output_type": "stream",
          "name": "stdout",
          "text": [
            "[[1. 1. 1. ... 1. 1. 1.]\n",
            " [1. 1. 1. ... 1. 1. 1.]\n",
            " [1. 1. 1. ... 1. 1. 1.]\n",
            " ...\n",
            " [1. 1. 1. ... 1. 1. 1.]\n",
            " [1. 1. 1. ... 1. 1. 1.]\n",
            " [1. 1. 1. ... 1. 1. 1.]]\n"
          ]
        }
      ]
    },
    {
      "cell_type": "markdown",
      "source": [
        "---\n",
        "<font color=green>Q4:</font>\n",
        "<br><font color='green'>\n",
        "Print the shape of the output:\n",
        "</font>\n",
        "\n",
        "---"
      ],
      "metadata": {
        "id": "7vD9Fa0Rfx2T"
      }
    },
    {
      "cell_type": "code",
      "metadata": {
        "id": "YfoHYcIykko8",
        "colab": {
          "base_uri": "https://localhost:8080/"
        },
        "outputId": "2db5ce4a-f356-4444-8ef3-6e9e93f9e7ca"
      },
      "source": [
        "print(H.shape)"
      ],
      "execution_count": null,
      "outputs": [
        {
          "output_type": "stream",
          "name": "stdout",
          "text": [
            "(1000, 100, 20)\n"
          ]
        }
      ]
    },
    {
      "cell_type": "markdown",
      "metadata": {
        "id": "COv33yRDvNuV"
      },
      "source": [
        "# 2. MNIST Classification using LSTMs"
      ]
    },
    {
      "cell_type": "markdown",
      "source": [
        "<center><img width=“700\" src = \"https://drive.google.com/uc?export=view&id=1KNpBc60u1QCopXygOff0tLkQNkyXuSmr\"></center>"
      ],
      "metadata": {
        "id": "IYCOGECGhVNt"
      }
    },
    {
      "cell_type": "markdown",
      "metadata": {
        "id": "u79VBT_aGlUG"
      },
      "source": [
        "We aim to employ the LSTM layer for classifying the MNIST dataset, which consists of images shaped as $(60000, 28, 28)$. Each sample represents an image with dimensions $(28, 28)$. Viewing each image as a sequence, we can interpret it as having a length of $T = 28,$ with each element having a dimension of $D = 28$."
      ]
    },
    {
      "cell_type": "markdown",
      "metadata": {
        "id": "y8mttvycUV6K"
      },
      "source": [
        "## 2.1 Loading the MNIST dataset"
      ]
    },
    {
      "cell_type": "markdown",
      "source": [
        "---\n",
        "<font color=green>Q5:</font>\n",
        "<br><font color='green'>\n",
        "Retrieve the MNIST dataset by utilizing the `tf.keras.datasets.mnist.load_data`function.\n",
        "</font>\n",
        "\n",
        "---"
      ],
      "metadata": {
        "id": "fqxR0xfgfytJ"
      }
    },
    {
      "cell_type": "code",
      "metadata": {
        "id": "grD3GopZc8Zb",
        "colab": {
          "base_uri": "https://localhost:8080/",
          "height": 141
        },
        "outputId": "4d020cd7-035c-4de7-c00c-bf46d16f2fa5"
      },
      "source": [
        "(X_train, y_train), (X_test, y_test) = tf.keras.datasets.mnist.load_data()"
      ],
      "execution_count": null,
      "outputs": [
        {
          "output_type": "error",
          "ename": "NameError",
          "evalue": "name 'tf' is not defined",
          "traceback": [
            "\u001b[0;31m---------------------------------------------------------------------------\u001b[0m",
            "\u001b[0;31mNameError\u001b[0m                                 Traceback (most recent call last)",
            "\u001b[0;32m<ipython-input-1-21a7689ab205>\u001b[0m in \u001b[0;36m<cell line: 1>\u001b[0;34m()\u001b[0m\n\u001b[0;32m----> 1\u001b[0;31m \u001b[0;34m(\u001b[0m\u001b[0mX_train\u001b[0m\u001b[0;34m,\u001b[0m \u001b[0my_train\u001b[0m\u001b[0;34m)\u001b[0m\u001b[0;34m,\u001b[0m \u001b[0;34m(\u001b[0m\u001b[0mX_test\u001b[0m\u001b[0;34m,\u001b[0m \u001b[0my_test\u001b[0m\u001b[0;34m)\u001b[0m \u001b[0;34m=\u001b[0m \u001b[0mtf\u001b[0m\u001b[0;34m.\u001b[0m\u001b[0mkeras\u001b[0m\u001b[0;34m.\u001b[0m\u001b[0mdatasets\u001b[0m\u001b[0;34m.\u001b[0m\u001b[0mmnist\u001b[0m\u001b[0;34m.\u001b[0m\u001b[0mload_data\u001b[0m\u001b[0;34m(\u001b[0m\u001b[0;34m)\u001b[0m\u001b[0;34m\u001b[0m\u001b[0;34m\u001b[0m\u001b[0m\n\u001b[0m",
            "\u001b[0;31mNameError\u001b[0m: name 'tf' is not defined"
          ]
        }
      ]
    },
    {
      "cell_type": "markdown",
      "source": [
        "---\n",
        "<font color=green>Q6:</font>\n",
        "<br><font color='green'>\n",
        "Print the shape of the training data.\n",
        "</font>\n",
        "\n",
        "---"
      ],
      "metadata": {
        "id": "ARNK6uSFfzVP"
      }
    },
    {
      "cell_type": "code",
      "metadata": {
        "id": "EOXsnm0udz00",
        "colab": {
          "base_uri": "https://localhost:8080/"
        },
        "outputId": "35ecb0ba-3575-49b0-8f31-b5a0e9717a60"
      },
      "source": [
        "print(X_train.shape)"
      ],
      "execution_count": null,
      "outputs": [
        {
          "output_type": "stream",
          "name": "stdout",
          "text": [
            "(60000, 28, 28)\n"
          ]
        }
      ]
    },
    {
      "cell_type": "code",
      "source": [
        "plt.imshow(X_train[0])"
      ],
      "metadata": {
        "id": "esZORZg_VSdB",
        "outputId": "6cee4d6a-4208-43ff-af61-c25fd8747a6e",
        "colab": {
          "base_uri": "https://localhost:8080/",
          "height": 447
        }
      },
      "execution_count": null,
      "outputs": [
        {
          "output_type": "execute_result",
          "data": {
            "text/plain": [
              "<matplotlib.image.AxesImage at 0x7e1449e39450>"
            ]
          },
          "metadata": {},
          "execution_count": 16
        },
        {
          "output_type": "display_data",
          "data": {
            "text/plain": [
              "<Figure size 640x480 with 1 Axes>"
            ],
            "image/png": "[encoded data removed]"
          },
          "metadata": {}
        }
      ]
    },
    {
      "cell_type": "code",
      "source": [
        "print(X_train[0])"
      ],
      "metadata": {
        "id": "Wc6r92dGVxmh",
        "outputId": "219e7637-cc25-456d-e0e2-9afe329a4d20",
        "colab": {
          "base_uri": "https://localhost:8080/"
        }
      },
      "execution_count": null,
      "outputs": [
        {
          "output_type": "stream",
          "name": "stdout",
          "text": [
            "[[  0   0   0   0   0   0   0   0   0   0   0   0   0   0   0   0   0   0\n",
            "    0   0   0   0   0   0   0   0   0   0]\n",
            " [  0   0   0   0   0   0   0   0   0   0   0   0   0   0   0   0   0   0\n",
            "    0   0   0   0   0   0   0   0   0   0]\n",
            " [  0   0   0   0   0   0   0   0   0   0   0   0   0   0   0   0   0   0\n",
            "    0   0   0   0   0   0   0   0   0   0]\n",
            " [  0   0   0   0   0   0   0   0   0   0   0   0   0   0   0   0   0   0\n",
            "    0   0   0   0   0   0   0   0   0   0]\n",
            " [  0   0   0   0   0   0   0   0   0   0   0   0   0   0   0   0   0   0\n",
            "    0   0   0   0   0   0   0   0   0   0]\n",
            " [  0   0   0   0   0   0   0   0   0   0   0   0   3  18  18  18 126 136\n",
            "  175  26 166 255 247 127   0   0   0   0]\n",
            " [  0   0   0   0   0   0   0   0  30  36  94 154 170 253 253 253 253 253\n",
            "  225 172 253 242 195  64   0   0   0   0]\n",
            " [  0   0   0   0   0   0   0  49 238 253 253 253 253 253 253 253 253 251\n",
            "   93  82  82  56  39   0   0   0   0   0]\n",
            " [  0   0   0   0   0   0   0  18 219 253 253 253 253 253 198 182 247 241\n",
            "    0   0   0   0   0   0   0   0   0   0]\n",
            " [  0   0   0   0   0   0   0   0  80 156 107 253 253 205  11   0  43 154\n",
            "    0   0   0   0   0   0   0   0   0   0]\n",
            " [  0   0   0   0   0   0   0   0   0  14   1 154 253  90   0   0   0   0\n",
            "    0   0   0   0   0   0   0   0   0   0]\n",
            " [  0   0   0   0   0   0   0   0   0   0   0 139 253 190   2   0   0   0\n",
            "    0   0   0   0   0   0   0   0   0   0]\n",
            " [  0   0   0   0   0   0   0   0   0   0   0  11 190 253  70   0   0   0\n",
            "    0   0   0   0   0   0   0   0   0   0]\n",
            " [  0   0   0   0   0   0   0   0   0   0   0   0  35 241 225 160 108   1\n",
            "    0   0   0   0   0   0   0   0   0   0]\n",
            " [  0   0   0   0   0   0   0   0   0   0   0   0   0  81 240 253 253 119\n",
            "   25   0   0   0   0   0   0   0   0   0]\n",
            " [  0   0   0   0   0   0   0   0   0   0   0   0   0   0  45 186 253 253\n",
            "  150  27   0   0   0   0   0   0   0   0]\n",
            " [  0   0   0   0   0   0   0   0   0   0   0   0   0   0   0  16  93 252\n",
            "  253 187   0   0   0   0   0   0   0   0]\n",
            " [  0   0   0   0   0   0   0   0   0   0   0   0   0   0   0   0   0 249\n",
            "  253 249  64   0   0   0   0   0   0   0]\n",
            " [  0   0   0   0   0   0   0   0   0   0   0   0   0   0  46 130 183 253\n",
            "  253 207   2   0   0   0   0   0   0   0]\n",
            " [  0   0   0   0   0   0   0   0   0   0   0   0  39 148 229 253 253 253\n",
            "  250 182   0   0   0   0   0   0   0   0]\n",
            " [  0   0   0   0   0   0   0   0   0   0  24 114 221 253 253 253 253 201\n",
            "   78   0   0   0   0   0   0   0   0   0]\n",
            " [  0   0   0   0   0   0   0   0  23  66 213 253 253 253 253 198  81   2\n",
            "    0   0   0   0   0   0   0   0   0   0]\n",
            " [  0   0   0   0   0   0  18 171 219 253 253 253 253 195  80   9   0   0\n",
            "    0   0   0   0   0   0   0   0   0   0]\n",
            " [  0   0   0   0  55 172 226 253 253 253 253 244 133  11   0   0   0   0\n",
            "    0   0   0   0   0   0   0   0   0   0]\n",
            " [  0   0   0   0 136 253 253 253 212 135 132  16   0   0   0   0   0   0\n",
            "    0   0   0   0   0   0   0   0   0   0]\n",
            " [  0   0   0   0   0   0   0   0   0   0   0   0   0   0   0   0   0   0\n",
            "    0   0   0   0   0   0   0   0   0   0]\n",
            " [  0   0   0   0   0   0   0   0   0   0   0   0   0   0   0   0   0   0\n",
            "    0   0   0   0   0   0   0   0   0   0]\n",
            " [  0   0   0   0   0   0   0   0   0   0   0   0   0   0   0   0   0   0\n",
            "    0   0   0   0   0   0   0   0   0   0]]\n"
          ]
        }
      ]
    },
    {
      "cell_type": "code",
      "source": [
        "print(y_train[0])"
      ],
      "metadata": {
        "id": "KhD_6QdrVds0",
        "outputId": "6dda907b-b20f-4cb7-91e4-69c4fc7a3585",
        "colab": {
          "base_uri": "https://localhost:8080/"
        }
      },
      "execution_count": null,
      "outputs": [
        {
          "output_type": "stream",
          "name": "stdout",
          "text": [
            "5\n"
          ]
        }
      ]
    },
    {
      "cell_type": "markdown",
      "source": [
        "---\n",
        "<font color=green>Q7:</font>\n",
        "<br><font color='green'>\n",
        "Normalize the feature train and test data by dividing each pixel element by 255.\n",
        "</font>\n",
        "\n",
        "---"
      ],
      "metadata": {
        "id": "s0I9WQWdf04M"
      }
    },
    {
      "cell_type": "code",
      "metadata": {
        "id": "Sg74fdAr1ApF"
      },
      "source": [
        "X_train = X_train/255.\n",
        "X_test = X_test/255."
      ],
      "execution_count": null,
      "outputs": []
    },
    {
      "cell_type": "markdown",
      "source": [
        "---\n",
        "<font color=green>Q8:</font>\n",
        "<br><font color='green'>\n",
        "The targets represent categories ranging from 0 to 9. To encode them into a tensor of shape $(N, 10)$, utilize the to_categorical function from `tensorflow.keras.utils` for one-hot encoding.\n",
        "</font>\n",
        "\n",
        "---"
      ],
      "metadata": {
        "id": "5lik-Dr0f1Vy"
      }
    },
    {
      "cell_type": "code",
      "metadata": {
        "id": "RfDKDAe41zwx"
      },
      "source": [
        "y_train = tf.keras.utils.to_categorical(y_train, num_classes=10)\n",
        "y_test = tf.keras.utils.to_categorical(y_test, num_classes=10)"
      ],
      "execution_count": null,
      "outputs": []
    },
    {
      "cell_type": "code",
      "metadata": {
        "id": "P0MAZMAC2Ewu",
        "colab": {
          "base_uri": "https://localhost:8080/"
        },
        "outputId": "cd7be17d-225c-43c1-ce48-2038746bb57f"
      },
      "source": [
        "print(y_train[0])"
      ],
      "execution_count": null,
      "outputs": [
        {
          "output_type": "stream",
          "name": "stdout",
          "text": [
            "[0. 0. 0. 0. 0. 1. 0. 0. 0. 0.]\n"
          ]
        }
      ]
    },
    {
      "cell_type": "markdown",
      "source": [
        "---\n",
        "<font color=green>Q9:</font>\n",
        "<br><font color='green'>\n",
        "Build the specified model and train it using gradient descent optimization. Use model.compile() with 'ADAM' and model.fit() with 20% of validation split. </font>\n",
        "\n",
        "---"
      ],
      "metadata": {
        "id": "hkrZ4josf2Ap"
      }
    },
    {
      "cell_type": "markdown",
      "source": [
        "<center><img width=“500\" src = \"https://drive.google.com/uc?export=view&id=1zCyhgITfxptmBzUDQ7-TPKsKugVyjtat\"></center>"
      ],
      "metadata": {
        "id": "unZ3w7JLhZME"
      }
    },
    {
      "cell_type": "code",
      "metadata": {
        "id": "6g2aLmH-1iUO"
      },
      "source": [
        "# Set hyperparameters\n",
        "T = X_train.shape[1]\n",
        "D = X_train.shape[2]\n",
        "d = 32\n",
        "M = 64\n",
        "N_epochs = 10"
      ],
      "execution_count": null,
      "outputs": []
    },
    {
      "cell_type": "code",
      "metadata": {
        "id": "_x_oHj60k7Ww"
      },
      "source": [
        "# Import Modules\n",
        "from tensorflow.keras.models import Model\n",
        "from tensorflow.keras.layers import Input, LSTM, Dense"
      ],
      "execution_count": null,
      "outputs": []
    },
    {
      "cell_type": "code",
      "source": [
        "input_layer = Input(shape = (T, D))\n",
        "lstm_layer = LSTM(d, return_sequences = False)(input_layer)\n",
        "\n",
        "output_layer = Dense(10, activation ='softmax')(lstm_layer)\n",
        "\n",
        "model = Model(input_layer, output_layer)"
      ],
      "metadata": {
        "id": "IqfTkmk7p_Z6"
      },
      "execution_count": null,
      "outputs": []
    },
    {
      "cell_type": "code",
      "source": [
        "model.summary()"
      ],
      "metadata": {
        "colab": {
          "base_uri": "https://localhost:8080/"
        },
        "id": "ImmsvxPyp_cL",
        "outputId": "2e5a786a-4421-4c56-8c0b-7f7d4d61d77d"
      },
      "execution_count": null,
      "outputs": [
        {
          "output_type": "stream",
          "name": "stdout",
          "text": [
            "Model: \"model_3\"\n",
            "_________________________________________________________________\n",
            " Layer (type)                Output Shape              Param #   \n",
            "=================================================================\n",
            " input_5 (InputLayer)        [(None, 28, 28)]          0         \n",
            "                                                                 \n",
            " lstm_3 (LSTM)               (None, 32)                7808      \n",
            "                                                                 \n",
            " dense_3 (Dense)             (None, 10)                330       \n",
            "                                                                 \n",
            "=================================================================\n",
            "Total params: 8138 (31.79 KB)\n",
            "Trainable params: 8138 (31.79 KB)\n",
            "Non-trainable params: 0 (0.00 Byte)\n",
            "_________________________________________________________________\n"
          ]
        }
      ]
    },
    {
      "cell_type": "code",
      "source": [
        "model.compile(optimizer = 'adam', loss = 'categorical_crossentropy', metrics = ['acc'])"
      ],
      "metadata": {
        "id": "AzLJ_iNxp_ei"
      },
      "execution_count": null,
      "outputs": []
    },
    {
      "cell_type": "code",
      "source": [
        "history = model.fit(X_train, y_train, validation_split = 0.2, epochs = N_epochs, batch_size = M)"
      ],
      "metadata": {
        "id": "qqHCJstHcVG4",
        "outputId": "078912ce-70ae-4068-a66f-3112c8c3ef95",
        "colab": {
          "base_uri": "https://localhost:8080/"
        }
      },
      "execution_count": null,
      "outputs": [
        {
          "output_type": "stream",
          "name": "stdout",
          "text": [
            "Epoch 1/10\n",
            "750/750 [==============================] - 13s 14ms/step - loss: 0.8744 - acc: 0.7180 - val_loss: 0.4042 - val_acc: 0.8802\n",
            "Epoch 2/10\n",
            "750/750 [==============================] - 10s 14ms/step - loss: 0.3021 - acc: 0.9124 - val_loss: 0.2319 - val_acc: 0.9326\n",
            "Epoch 3/10\n",
            "750/750 [==============================] - 8s 11ms/step - loss: 0.2060 - acc: 0.9404 - val_loss: 0.1733 - val_acc: 0.9479\n",
            "Epoch 4/10\n",
            "750/750 [==============================] - 10s 13ms/step - loss: 0.1573 - acc: 0.9545 - val_loss: 0.1355 - val_acc: 0.9590\n",
            "Epoch 5/10\n",
            "750/750 [==============================] - 10s 13ms/step - loss: 0.1303 - acc: 0.9617 - val_loss: 0.1243 - val_acc: 0.9625\n",
            "Epoch 6/10\n",
            "750/750 [==============================] - 9s 12ms/step - loss: 0.1119 - acc: 0.9675 - val_loss: 0.1118 - val_acc: 0.9652\n",
            "Epoch 7/10\n",
            "750/750 [==============================] - 10s 13ms/step - loss: 0.0971 - acc: 0.9715 - val_loss: 0.1060 - val_acc: 0.9693\n",
            "Epoch 8/10\n",
            "750/750 [==============================] - 12s 16ms/step - loss: 0.0894 - acc: 0.9733 - val_loss: 0.0989 - val_acc: 0.9714\n",
            "Epoch 9/10\n",
            "750/750 [==============================] - 10s 13ms/step - loss: 0.0808 - acc: 0.9765 - val_loss: 0.0891 - val_acc: 0.9736\n",
            "Epoch 10/10\n",
            "750/750 [==============================] - 9s 12ms/step - loss: 0.0735 - acc: 0.9781 - val_loss: 0.0888 - val_acc: 0.9744\n"
          ]
        }
      ]
    },
    {
      "cell_type": "markdown",
      "source": [
        "---\n",
        "<font color=green>Q10:</font>\n",
        "<br><font color='green'>\n",
        "Visualize the training and validation loss, as well as the training and validation accuracy, through plots.\n",
        "</font>\n",
        "\n",
        "---"
      ],
      "metadata": {
        "id": "nRJ1zuASf3Li"
      }
    },
    {
      "cell_type": "code",
      "metadata": {
        "id": "HVhFRaHWk7hP",
        "colab": {
          "base_uri": "https://localhost:8080/",
          "height": 458
        },
        "outputId": "d3ad24b4-191e-4ca2-94db-0ad73ac55942"
      },
      "source": [
        "# Plot the training loss and the validation loss\n",
        "plt.figure(figsize = (10, 6))\n",
        "plt.plot(history.history['loss'], label = 'loss')\n",
        "plt.plot(history.history['val_loss'], label ='val_loss')\n",
        "plt.title('Training and Validation loss')\n",
        "plt.show()"
      ],
      "execution_count": null,
      "outputs": [
        {
          "output_type": "display_data",
          "data": {
            "text/plain": [
              "<Figure size 720x504 with 1 Axes>"
            ],
            "image/png": "[encoded data removed]"
          },
          "metadata": {}
        }
      ]
    },
    {
      "cell_type": "code",
      "metadata": {
        "id": "VWsBpMTTJUzl",
        "colab": {
          "base_uri": "https://localhost:8080/",
          "height": 458
        },
        "outputId": "9b0f7fae-b8e5-4ade-df9d-921d02bc1516"
      },
      "source": [
        "# Plot the training accuracy and the validation accuracy\n",
        "# Plot the training loss and the validation loss\n",
        "plt.figure(figsize = (10, 6))\n",
        "plt.plot(history.history['acc'], label = 'acc')\n",
        "plt.plot(history.history['val_acc'], label ='val_acc')\n",
        "plt.title('Training and Validation accuracy')\n",
        "plt.show()"
      ],
      "execution_count": null,
      "outputs": [
        {
          "output_type": "display_data",
          "data": {
            "text/plain": [
              "<Figure size 720x504 with 1 Axes>"
            ],
            "image/png": "[encoded data removed]"
          },
          "metadata": {}
        }
      ]
    },
    {
      "cell_type": "markdown",
      "metadata": {
        "id": "1xy8N9ZZUW44"
      },
      "source": [
        "# Wrap-up"
      ]
    },
    {
      "cell_type": "markdown",
      "metadata": {
        "id": "ApA7ycFtywuv"
      },
      "source": [
        "\n",
        "In this coding session, we've gained insights into the following:\n",
        "\n",
        "* Implementing the RNN layer from scratch using Numpy, facilitating a deeper understanding of data transformations.\n",
        "* Conducting a classification task on data with dimensions (N, T, D) by leveraging LSTM networks.\n",
        "\n"
      ]
    }
  ]
}